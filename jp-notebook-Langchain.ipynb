{
 "cells": [
  {
   "cell_type": "code",
   "execution_count": 56,
   "id": "8efc4a0b",
   "metadata": {},
   "outputs": [],
   "source": [
    "import sys\n",
    "import os\n",
    "import platform\n",
    "\n",
    "import time\n",
    "\n",
    "# suppress python warning messages\n",
    "import warnings\n",
    "warnings.filterwarnings(\"ignore\")\n",
    "\n",
    "# Langchain depedencies\n",
    "from langchain import OpenAI\n",
    "from langchain.llms import OpenAI\n",
    "from langchain.chat_models import ChatOpenAI\n",
    "from langchain.chains import RetrievalQA\n",
    "\n",
    "## Import data loaders for a specific doc or Directory\n",
    "from langchain.document_loaders import TextLoader, DirectoryLoader, UnstructuredWordDocumentLoader, UnstructuredPDFLoader\n",
    "\n",
    "## Import embeddings\n",
    "from langchain.embeddings.openai import OpenAIEmbeddings\n",
    "\n",
    "## Import Index with vector DBS/stores\n",
    "from langchain.vectorstores import FAISS\n",
    "\n",
    "## Import character/text splitter\n",
    "from langchain.text_splitter import CharacterTextSplitter\n",
    "\n",
    "\n",
    "## Import data loader from local file\n",
    "from data_loader import data_loader\n",
    "\n"
   ]
  },
  {
   "cell_type": "code",
   "execution_count": 57,
   "id": "7a5c5be7",
   "metadata": {},
   "outputs": [],
   "source": [
    "## vars\n",
    "OPENAI_API_KEY = \"INSERT KEY\"\n",
    "API_KEY_CONFIRMED = \"\"\n",
    "# vectorstore path\n",
    "vectorstore_path = \"./FAISS_DB/faiss_index/\""
   ]
  },
  {
   "cell_type": "code",
   "execution_count": 58,
   "id": "451e418a",
   "metadata": {},
   "outputs": [],
   "source": [
    "# set embeddings\n",
    "def embeddings():\n",
    "    embeddings = OpenAIEmbeddings(openai_api_key=f\"{OPENAI_API_KEY}\")\n",
    "    \n",
    "    return embeddings"
   ]
  },
  {
   "cell_type": "code",
   "execution_count": 59,
   "id": "bf0b18b2",
   "metadata": {},
   "outputs": [],
   "source": [
    "def initialize_vectorstore(OPENAI_API_KEY = None):\n",
    "    if os.path.exists(f'{vectorstore_path}'):\n",
    "        dir = os.listdir(f\"{vectorstore_path}\")\n",
    "        if len(dir) == 0:\n",
    "            # Creating new db/index - importing func from data_loader.py\n",
    "            db = data_loader()\n",
    "        else:\n",
    "            # if files already exist, just load the existing db in the path\n",
    "            db = FAISS.load_local(f\"{vectorstore_path}\", embeddings())\n",
    "    \n",
    "    return db"
   ]
  },
  {
   "cell_type": "code",
   "execution_count": 60,
   "id": "5ea89612",
   "metadata": {},
   "outputs": [],
   "source": [
    "##  expose this index in a retriever interface.\n",
    "def retriever():\n",
    "    retriever = initialize_vectorstore().as_retriever(search_kwargs={\"k\":2})\n",
    "    return retriever"
   ]
  },
  {
   "cell_type": "code",
   "execution_count": 61,
   "id": "68f1f22e",
   "metadata": {},
   "outputs": [],
   "source": [
    "# qa chain - (langchain)\n",
    "def qa_chain():\n",
    "    qa = RetrievalQA.from_chain_type(\n",
    "        llm=OpenAI(),\n",
    "        chain_type=\"stuff\",\n",
    "        retriever=retriever()\n",
    "    )\n",
    "    return qa\n"
   ]
  },
  {
   "cell_type": "code",
   "execution_count": 62,
   "id": "d126b5cb",
   "metadata": {},
   "outputs": [
    {
     "data": {
      "text/plain": [
       "<langchain.vectorstores.faiss.FAISS at 0x7fee845dc070>"
      ]
     },
     "execution_count": 62,
     "metadata": {},
     "output_type": "execute_result"
    }
   ],
   "source": [
    "initialize_vectorstore()"
   ]
  },
  {
   "cell_type": "code",
   "execution_count": 63,
   "id": "b164b7c7",
   "metadata": {},
   "outputs": [],
   "source": [
    "query_prompt = \"What is Jatin's AWS exam score?\""
   ]
  },
  {
   "cell_type": "code",
   "execution_count": 64,
   "id": "5ea7f17c",
   "metadata": {},
   "outputs": [
    {
     "name": "stdout",
     "output_type": "stream",
     "text": [
      " Jatin's AWS exam score is 798.\n"
     ]
    }
   ],
   "source": [
    "result = qa_chain().run(query_prompt)\n",
    "print(result)"
   ]
  },
  {
   "cell_type": "code",
   "execution_count": null,
   "id": "52b9eb88",
   "metadata": {},
   "outputs": [],
   "source": []
  }
 ],
 "metadata": {
  "kernelspec": {
   "display_name": "Python 3 (ipykernel)",
   "language": "python",
   "name": "python3"
  },
  "language_info": {
   "codemirror_mode": {
    "name": "ipython",
    "version": 3
   },
   "file_extension": ".py",
   "mimetype": "text/x-python",
   "name": "python",
   "nbconvert_exporter": "python",
   "pygments_lexer": "ipython3",
   "version": "3.10.6"
  }
 },
 "nbformat": 4,
 "nbformat_minor": 5
}
